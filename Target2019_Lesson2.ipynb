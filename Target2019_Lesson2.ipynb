{
  "cells": [
    {
      "metadata": {},
      "cell_type": "markdown",
      "source": "\n# Target 2019 Python Lesson - Part 2\n\n---\n# 1: Tuples & Dictionary\n\nLike lists, also tuples and dictionaries allow to store multiple values, but they serve different purposes.\n\n### 1.1: Tuples\n\nThe only major difference between a Tuple and a List is that a tuple is immutable, you **cannot** edit/remove/add values to it. Once you create a tuple, that's it. Tuples were created for speed. If you're dealing with A LOT of data or SINGLE USE data, tuples are great. They are being used in some of the projects that we'll show you. \n\nDefining tuples is very similar to defining a list. Use parenthesizes `()` instead of brackets `[]`. There is no difference for accessing its elements, you use brackets `[]` like for lists."
    },
    {
      "metadata": {
        "trusted": true
      },
      "cell_type": "code",
      "source": "\"\"\"Remember that just like lists, tuples are a variable that hold\nlots of other variables.\naListExample = ['do', 'you, 'remember?']\n\nbtw, this is a block comment. It's exactly like the\n# comment\n but you can continue this comment on multiple lines and\nend it by typing:\"\"\"\n\nTuple_example = ('This', 'is', 'a', 'tuple')\n\nTuple_example",
      "execution_count": 9,
      "outputs": [
        {
          "output_type": "execute_result",
          "execution_count": 9,
          "data": {
            "text/plain": "('This', 'is', 'a', 'tuple')"
          },
          "metadata": {}
        }
      ]
    },
    {
      "metadata": {
        "trusted": true
      },
      "cell_type": "code",
      "source": "Tuple_example[3]",
      "execution_count": 10,
      "outputs": [
        {
          "output_type": "execute_result",
          "execution_count": 10,
          "data": {
            "text/plain": "'tuple'"
          },
          "metadata": {}
        }
      ]
    },
    {
      "metadata": {},
      "cell_type": "markdown",
      "source": "### 1.2: Dictionary\n\nDictionaries are a collection of elements like lists and tuples, but they store key-value pairs. You use unique keys to set, change or access the corresponding values, one at the time. Keys can be strings, numbers, almost anything (anithing that is immutable and has a hash function). It is very quick to access/modify a single element, slower if you need to sort them or access multiple elements. Check it out below,"
    },
    {
      "metadata": {
        "trusted": true
      },
      "cell_type": "code",
      "source": "aDictionary = {'theKey': 'theValueoftheKey', 'name': 'John', 'age': 24}\n# They are created with squiggly brackets {}\n\naDictionary['name']",
      "execution_count": 2,
      "outputs": [
        {
          "output_type": "execute_result",
          "execution_count": 2,
          "data": {
            "text/plain": "'John'"
          },
          "metadata": {}
        }
      ]
    },
    {
      "metadata": {
        "trusted": true
      },
      "cell_type": "code",
      "source": "aDictionary['age']",
      "execution_count": 6,
      "outputs": [
        {
          "output_type": "execute_result",
          "execution_count": 6,
          "data": {
            "text/plain": "24"
          },
          "metadata": {}
        }
      ]
    },
    {
      "metadata": {
        "trusted": true
      },
      "cell_type": "code",
      "source": "aDictionary['surname'] = 'Doe'  # You can add entries to a Dictionary\naDictionary['surname']",
      "execution_count": 7,
      "outputs": [
        {
          "output_type": "execute_result",
          "execution_count": 7,
          "data": {
            "text/plain": "'Doe'"
          },
          "metadata": {}
        }
      ]
    },
    {
      "metadata": {},
      "cell_type": "markdown",
      "source": "# 2. Modules and Packages\n\nRemember importing the math standard library from last week? You can import all kind of modules and also define your own. Let's say that you have a very complex application written in Python. Writing all of your code in one script would not be efficient. \n\n\nIn fact, say that parts of your application will use certain functions and other parts will not. To make your application more efficient, you can separate those functions in other files and then import them whenever you need them.\n\nA collection of Python modules (e.g. the Python files in the same directory) is called package.\n\nWe're going now to create two files. One file, the module, will contain a function. The other file, the script, will import the first one and execute the function."
    },
    {
      "metadata": {},
      "cell_type": "markdown",
      "source": "`def printWithBorders(text_to_print):\n    numChar = len(text_to_print)\n    border = numChar*'='\n    print(border + '\\n' + text_to_print + '\\n' + border)  # remember, \\n creates a newline`"
    },
    {
      "metadata": {},
      "cell_type": "markdown",
      "source": "First, let's create a new notebook,\n\n![](https://i.imgur.com/VJJZB9i.png)\n\nThen rename it to `function`,\n\n![](https://i.imgur.com/GOmYaMq.png)\n\n![](https://i.imgur.com/zjgq1mp.png)\n\n![](https://i.imgur.com/sFMY402.png)"
    },
    {
      "metadata": {},
      "cell_type": "markdown",
      "source": "Okay, once that is done, run the command below (don't worry too much about this, again this allows us to treat Python Notebooks as actual Python scripts). Give that command a minute, once you see a number appear inside of `In []`, then you can move on."
    },
    {
      "metadata": {
        "trusted": true
      },
      "cell_type": "code",
      "source": "!pip install importnb",
      "execution_count": 8,
      "outputs": [
        {
          "output_type": "stream",
          "text": "Collecting importnb\n\u001b[?25l  Downloading https://files.pythonhosted.org/packages/40/15/50adfb42973c2af5600945251c2975fba4fb9b447d5041bd177f660ff6b4/importnb-0.5.5-py3-none-any.whl (52kB)\n\u001b[K     |████████████████████████████████| 61kB 4.9MB/s eta 0:00:011\n\u001b[?25hCollecting importlib-resources (from importnb)\n  Downloading https://files.pythonhosted.org/packages/2f/f7/b4aa02cdd3ee7ebba375969d77c00826aa15c5db84247d23c89522dccbfa/importlib_resources-1.0.2-py2.py3-none-any.whl\nInstalling collected packages: importlib-resources, importnb\nSuccessfully installed importlib-resources-1.0.2 importnb-0.5.5\n\u001b[33mWARNING: You are using pip version 19.1, however version 19.1.1 is available.\nYou should consider upgrading via the 'pip install --upgrade pip' command.\u001b[0m\n",
          "name": "stdout"
        }
      ]
    },
    {
      "metadata": {},
      "cell_type": "markdown",
      "source": "And if you renamed the file correctly, have the correct function name, and imported that function, the below block of code should execute without any issue."
    },
    {
      "metadata": {
        "trusted": true,
        "scrolled": false
      },
      "cell_type": "code",
      "source": "# Python Notebook Import\nfrom importnb import Notebook\n# Sometimes you may need: with __import__('importnb').Notebook():\nwith Notebook(): \n    import function\n\n# The import is done only once (version of the Notebook the first time it was executed)\n# This is to get the latest changes that you may make to the Notebook\nfrom importlib import reload \nwith Notebook():\n    reload(function)\n\n# Note: If you were using .py files, then you would just use:\n# import function\n# from importlib import reload\n# reload(function)\n        \nfunction.printWithBorders('Hello World')",
      "execution_count": 12,
      "outputs": [
        {
          "output_type": "error",
          "ename": "TypeError",
          "evalue": "'slice' object is not subscriptable",
          "traceback": [
            "\u001b[0;31m---------------------------------------------------------------------------\u001b[0m",
            "\u001b[0;31mTypeError\u001b[0m                                 Traceback (most recent call last)",
            "\u001b[0;32m<ipython-input-12-f8f1f6f8d0a8>\u001b[0m in \u001b[0;36m<module>\u001b[0;34m\u001b[0m\n\u001b[1;32m      3\u001b[0m \u001b[0;31m# Sometimes you may need: with __import__('importnb').Notebook():\u001b[0m\u001b[0;34m\u001b[0m\u001b[0;34m\u001b[0m\u001b[0m\n\u001b[1;32m      4\u001b[0m \u001b[0;32mwith\u001b[0m \u001b[0mNotebook\u001b[0m\u001b[0;34m(\u001b[0m\u001b[0;34m)\u001b[0m\u001b[0;34m:\u001b[0m\u001b[0;34m\u001b[0m\u001b[0m\n\u001b[0;32m----> 5\u001b[0;31m     \u001b[0;32mimport\u001b[0m \u001b[0mfunction\u001b[0m\u001b[0;34m\u001b[0m\u001b[0m\n\u001b[0m\u001b[1;32m      6\u001b[0m \u001b[0;34m\u001b[0m\u001b[0m\n\u001b[1;32m      7\u001b[0m \u001b[0;31m# The import is done only once (version of the Notebook the first time it was executed)\u001b[0m\u001b[0;34m\u001b[0m\u001b[0;34m\u001b[0m\u001b[0m\n",
            "\u001b[0;32m~/anaconda3_501/lib/python3.6/importlib/_bootstrap.py\u001b[0m in \u001b[0;36m_find_and_load\u001b[0;34m(name, import_)\u001b[0m\n",
            "\u001b[0;32m~/anaconda3_501/lib/python3.6/importlib/_bootstrap.py\u001b[0m in \u001b[0;36m_find_and_load_unlocked\u001b[0;34m(name, import_)\u001b[0m\n",
            "\u001b[0;32m~/anaconda3_501/lib/python3.6/importlib/_bootstrap.py\u001b[0m in \u001b[0;36m_load_unlocked\u001b[0;34m(spec)\u001b[0m\n",
            "\u001b[0;32m~/anaconda3_501/lib/python3.6/importlib/_bootstrap_external.py\u001b[0m in \u001b[0;36mexec_module\u001b[0;34m(self, module)\u001b[0m\n",
            "\u001b[0;32m~/anaconda3_501/lib/python3.6/importlib/_bootstrap_external.py\u001b[0m in \u001b[0;36mget_code\u001b[0;34m(self, fullname)\u001b[0m\n",
            "\u001b[0;32m~/anaconda3_501/lib/python3.6/site-packages/importnb/loader.py\u001b[0m in \u001b[0;36mget_data\u001b[0;34m(self, path)\u001b[0m\n\u001b[1;32m    140\u001b[0m         return LineCacheNotebookDecoder(\n\u001b[1;32m    141\u001b[0m             \u001b[0mcode\u001b[0m\u001b[0;34m=\u001b[0m\u001b[0mself\u001b[0m\u001b[0;34m.\u001b[0m\u001b[0mcode\u001b[0m\u001b[0;34m,\u001b[0m \u001b[0mraw\u001b[0m\u001b[0;34m=\u001b[0m\u001b[0mself\u001b[0m\u001b[0;34m.\u001b[0m\u001b[0mraw\u001b[0m\u001b[0;34m,\u001b[0m \u001b[0mmarkdown\u001b[0m\u001b[0;34m=\u001b[0m\u001b[0mself\u001b[0m\u001b[0;34m.\u001b[0m\u001b[0mmarkdown\u001b[0m\u001b[0;34m\u001b[0m\u001b[0m\n\u001b[0;32m--> 142\u001b[0;31m         ).decode(self.decode(), self.path)\n\u001b[0m\u001b[1;32m    143\u001b[0m \u001b[0;34m\u001b[0m\u001b[0m\n\u001b[1;32m    144\u001b[0m     \u001b[0;34m@\u001b[0m\u001b[0mclassmethod\u001b[0m\u001b[0;34m\u001b[0m\u001b[0m\n",
            "\u001b[0;32m~/anaconda3_501/lib/python3.6/site-packages/importnb/decoder.py\u001b[0m in \u001b[0;36mdecode\u001b[0;34m(self, object, filename)\u001b[0m\n\u001b[1;32m     77\u001b[0m             )\n\u001b[1;32m     78\u001b[0m         \u001b[0mlast\u001b[0m\u001b[0;34m,\u001b[0m \u001b[0mnew\u001b[0m\u001b[0;34m,\u001b[0m \u001b[0mold\u001b[0m \u001b[0;34m=\u001b[0m \u001b[0mslice\u001b[0m\u001b[0;34m(\u001b[0m\u001b[0;36m0\u001b[0m\u001b[0;34m,\u001b[0m \u001b[0;36m0\u001b[0m\u001b[0;34m)\u001b[0m\u001b[0;34m,\u001b[0m \u001b[0;36m0\u001b[0m\u001b[0;34m,\u001b[0m \u001b[0;36m0\u001b[0m\u001b[0;34m\u001b[0m\u001b[0m\n\u001b[0;32m---> 79\u001b[0;31m         \u001b[0;32mfor\u001b[0m \u001b[0mcurrent\u001b[0m\u001b[0;34m,\u001b[0m \u001b[0mcell\u001b[0m\u001b[0;34m,\u001b[0m \u001b[0msource\u001b[0m \u001b[0;32min\u001b[0m \u001b[0msuper\u001b[0m\u001b[0;34m(\u001b[0m\u001b[0;34m)\u001b[0m\u001b[0;34m.\u001b[0m\u001b[0mdecode\u001b[0m\u001b[0;34m(\u001b[0m\u001b[0mobject\u001b[0m\u001b[0;34m)\u001b[0m\u001b[0;34m:\u001b[0m\u001b[0;34m\u001b[0m\u001b[0m\n\u001b[0m\u001b[1;32m     80\u001b[0m             \u001b[0;32mif\u001b[0m \u001b[0mcell\u001b[0m\u001b[0;34m:\u001b[0m\u001b[0;34m\u001b[0m\u001b[0m\n\u001b[1;32m     81\u001b[0m                 lines += [\"\\n\"] * (\n",
            "\u001b[0;32m~/anaconda3_501/lib/python3.6/json/decoder.py\u001b[0m in \u001b[0;36mdecode\u001b[0;34m(self, s, _w)\u001b[0m\n\u001b[1;32m    337\u001b[0m \u001b[0;34m\u001b[0m\u001b[0m\n\u001b[1;32m    338\u001b[0m         \"\"\"\n\u001b[0;32m--> 339\u001b[0;31m         \u001b[0mobj\u001b[0m\u001b[0;34m,\u001b[0m \u001b[0mend\u001b[0m \u001b[0;34m=\u001b[0m \u001b[0mself\u001b[0m\u001b[0;34m.\u001b[0m\u001b[0mraw_decode\u001b[0m\u001b[0;34m(\u001b[0m\u001b[0ms\u001b[0m\u001b[0;34m,\u001b[0m \u001b[0midx\u001b[0m\u001b[0;34m=\u001b[0m\u001b[0m_w\u001b[0m\u001b[0;34m(\u001b[0m\u001b[0ms\u001b[0m\u001b[0;34m,\u001b[0m \u001b[0;36m0\u001b[0m\u001b[0;34m)\u001b[0m\u001b[0;34m.\u001b[0m\u001b[0mend\u001b[0m\u001b[0;34m(\u001b[0m\u001b[0;34m)\u001b[0m\u001b[0;34m)\u001b[0m\u001b[0;34m\u001b[0m\u001b[0m\n\u001b[0m\u001b[1;32m    340\u001b[0m         \u001b[0mend\u001b[0m \u001b[0;34m=\u001b[0m \u001b[0m_w\u001b[0m\u001b[0;34m(\u001b[0m\u001b[0ms\u001b[0m\u001b[0;34m,\u001b[0m \u001b[0mend\u001b[0m\u001b[0;34m)\u001b[0m\u001b[0;34m.\u001b[0m\u001b[0mend\u001b[0m\u001b[0;34m(\u001b[0m\u001b[0;34m)\u001b[0m\u001b[0;34m\u001b[0m\u001b[0m\n\u001b[1;32m    341\u001b[0m         \u001b[0;32mif\u001b[0m \u001b[0mend\u001b[0m \u001b[0;34m!=\u001b[0m \u001b[0mlen\u001b[0m\u001b[0;34m(\u001b[0m\u001b[0ms\u001b[0m\u001b[0;34m)\u001b[0m\u001b[0;34m:\u001b[0m\u001b[0;34m\u001b[0m\u001b[0m\n",
            "\u001b[0;32m~/anaconda3_501/lib/python3.6/json/decoder.py\u001b[0m in \u001b[0;36mraw_decode\u001b[0;34m(self, s, idx)\u001b[0m\n\u001b[1;32m    353\u001b[0m         \"\"\"\n\u001b[1;32m    354\u001b[0m         \u001b[0;32mtry\u001b[0m\u001b[0;34m:\u001b[0m\u001b[0;34m\u001b[0m\u001b[0m\n\u001b[0;32m--> 355\u001b[0;31m             \u001b[0mobj\u001b[0m\u001b[0;34m,\u001b[0m \u001b[0mend\u001b[0m \u001b[0;34m=\u001b[0m \u001b[0mself\u001b[0m\u001b[0;34m.\u001b[0m\u001b[0mscan_once\u001b[0m\u001b[0;34m(\u001b[0m\u001b[0ms\u001b[0m\u001b[0;34m,\u001b[0m \u001b[0midx\u001b[0m\u001b[0;34m)\u001b[0m\u001b[0;34m\u001b[0m\u001b[0m\n\u001b[0m\u001b[1;32m    356\u001b[0m         \u001b[0;32mexcept\u001b[0m \u001b[0mStopIteration\u001b[0m \u001b[0;32mas\u001b[0m \u001b[0merr\u001b[0m\u001b[0;34m:\u001b[0m\u001b[0;34m\u001b[0m\u001b[0m\n\u001b[1;32m    357\u001b[0m             \u001b[0;32mraise\u001b[0m \u001b[0mJSONDecodeError\u001b[0m\u001b[0;34m(\u001b[0m\u001b[0;34m\"Expecting value\"\u001b[0m\u001b[0;34m,\u001b[0m \u001b[0ms\u001b[0m\u001b[0;34m,\u001b[0m \u001b[0merr\u001b[0m\u001b[0;34m.\u001b[0m\u001b[0mvalue\u001b[0m\u001b[0;34m)\u001b[0m \u001b[0;32mfrom\u001b[0m \u001b[0;32mNone\u001b[0m\u001b[0;34m\u001b[0m\u001b[0m\n",
            "\u001b[0;32m~/anaconda3_501/lib/python3.6/json/scanner.py\u001b[0m in \u001b[0;36mscan_once\u001b[0;34m(string, idx)\u001b[0m\n\u001b[1;32m     65\u001b[0m     \u001b[0;32mdef\u001b[0m \u001b[0mscan_once\u001b[0m\u001b[0;34m(\u001b[0m\u001b[0mstring\u001b[0m\u001b[0;34m,\u001b[0m \u001b[0midx\u001b[0m\u001b[0;34m)\u001b[0m\u001b[0;34m:\u001b[0m\u001b[0;34m\u001b[0m\u001b[0m\n\u001b[1;32m     66\u001b[0m         \u001b[0;32mtry\u001b[0m\u001b[0;34m:\u001b[0m\u001b[0;34m\u001b[0m\u001b[0m\n\u001b[0;32m---> 67\u001b[0;31m             \u001b[0;32mreturn\u001b[0m \u001b[0m_scan_once\u001b[0m\u001b[0;34m(\u001b[0m\u001b[0mstring\u001b[0m\u001b[0;34m,\u001b[0m \u001b[0midx\u001b[0m\u001b[0;34m)\u001b[0m\u001b[0;34m\u001b[0m\u001b[0m\n\u001b[0m\u001b[1;32m     68\u001b[0m         \u001b[0;32mfinally\u001b[0m\u001b[0;34m:\u001b[0m\u001b[0;34m\u001b[0m\u001b[0m\n\u001b[1;32m     69\u001b[0m             \u001b[0mmemo\u001b[0m\u001b[0;34m.\u001b[0m\u001b[0mclear\u001b[0m\u001b[0;34m(\u001b[0m\u001b[0;34m)\u001b[0m\u001b[0;34m\u001b[0m\u001b[0m\n",
            "\u001b[0;32m~/anaconda3_501/lib/python3.6/json/scanner.py\u001b[0m in \u001b[0;36m_scan_once\u001b[0;34m(string, idx)\u001b[0m\n\u001b[1;32m     36\u001b[0m         \u001b[0;32melif\u001b[0m \u001b[0mnextchar\u001b[0m \u001b[0;34m==\u001b[0m \u001b[0;34m'{'\u001b[0m\u001b[0;34m:\u001b[0m\u001b[0;34m\u001b[0m\u001b[0m\n\u001b[1;32m     37\u001b[0m             return parse_object((string, idx + 1), strict,\n\u001b[0;32m---> 38\u001b[0;31m                 _scan_once, object_hook, object_pairs_hook, memo)\n\u001b[0m\u001b[1;32m     39\u001b[0m         \u001b[0;32melif\u001b[0m \u001b[0mnextchar\u001b[0m \u001b[0;34m==\u001b[0m \u001b[0;34m'['\u001b[0m\u001b[0;34m:\u001b[0m\u001b[0;34m\u001b[0m\u001b[0m\n\u001b[1;32m     40\u001b[0m             \u001b[0;32mreturn\u001b[0m \u001b[0mparse_array\u001b[0m\u001b[0;34m(\u001b[0m\u001b[0;34m(\u001b[0m\u001b[0mstring\u001b[0m\u001b[0;34m,\u001b[0m \u001b[0midx\u001b[0m \u001b[0;34m+\u001b[0m \u001b[0;36m1\u001b[0m\u001b[0;34m)\u001b[0m\u001b[0;34m,\u001b[0m \u001b[0m_scan_once\u001b[0m\u001b[0;34m)\u001b[0m\u001b[0;34m\u001b[0m\u001b[0m\n",
            "\u001b[0;32m~/anaconda3_501/lib/python3.6/json/decoder.py\u001b[0m in \u001b[0;36mJSONObject\u001b[0;34m(s_and_end, strict, scan_once, object_hook, object_pairs_hook, memo, _w, _ws)\u001b[0m\n\u001b[1;32m    183\u001b[0m \u001b[0;34m\u001b[0m\u001b[0m\n\u001b[1;32m    184\u001b[0m         \u001b[0;32mtry\u001b[0m\u001b[0;34m:\u001b[0m\u001b[0;34m\u001b[0m\u001b[0m\n\u001b[0;32m--> 185\u001b[0;31m             \u001b[0mvalue\u001b[0m\u001b[0;34m,\u001b[0m \u001b[0mend\u001b[0m \u001b[0;34m=\u001b[0m \u001b[0mscan_once\u001b[0m\u001b[0;34m(\u001b[0m\u001b[0ms\u001b[0m\u001b[0;34m,\u001b[0m \u001b[0mend\u001b[0m\u001b[0;34m)\u001b[0m\u001b[0;34m\u001b[0m\u001b[0m\n\u001b[0m\u001b[1;32m    186\u001b[0m         \u001b[0;32mexcept\u001b[0m \u001b[0mStopIteration\u001b[0m \u001b[0;32mas\u001b[0m \u001b[0merr\u001b[0m\u001b[0;34m:\u001b[0m\u001b[0;34m\u001b[0m\u001b[0m\n\u001b[1;32m    187\u001b[0m             \u001b[0;32mraise\u001b[0m \u001b[0mJSONDecodeError\u001b[0m\u001b[0;34m(\u001b[0m\u001b[0;34m\"Expecting value\"\u001b[0m\u001b[0;34m,\u001b[0m \u001b[0ms\u001b[0m\u001b[0;34m,\u001b[0m \u001b[0merr\u001b[0m\u001b[0;34m.\u001b[0m\u001b[0mvalue\u001b[0m\u001b[0;34m)\u001b[0m \u001b[0;32mfrom\u001b[0m \u001b[0;32mNone\u001b[0m\u001b[0;34m\u001b[0m\u001b[0m\n",
            "\u001b[0;32m~/anaconda3_501/lib/python3.6/json/scanner.py\u001b[0m in \u001b[0;36m_scan_once\u001b[0;34m(string, idx)\u001b[0m\n\u001b[1;32m     38\u001b[0m                 _scan_once, object_hook, object_pairs_hook, memo)\n\u001b[1;32m     39\u001b[0m         \u001b[0;32melif\u001b[0m \u001b[0mnextchar\u001b[0m \u001b[0;34m==\u001b[0m \u001b[0;34m'['\u001b[0m\u001b[0;34m:\u001b[0m\u001b[0;34m\u001b[0m\u001b[0m\n\u001b[0;32m---> 40\u001b[0;31m             \u001b[0;32mreturn\u001b[0m \u001b[0mparse_array\u001b[0m\u001b[0;34m(\u001b[0m\u001b[0;34m(\u001b[0m\u001b[0mstring\u001b[0m\u001b[0;34m,\u001b[0m \u001b[0midx\u001b[0m \u001b[0;34m+\u001b[0m \u001b[0;36m1\u001b[0m\u001b[0;34m)\u001b[0m\u001b[0;34m,\u001b[0m \u001b[0m_scan_once\u001b[0m\u001b[0;34m)\u001b[0m\u001b[0;34m\u001b[0m\u001b[0m\n\u001b[0m\u001b[1;32m     41\u001b[0m         \u001b[0;32melif\u001b[0m \u001b[0mnextchar\u001b[0m \u001b[0;34m==\u001b[0m \u001b[0;34m'n'\u001b[0m \u001b[0;32mand\u001b[0m \u001b[0mstring\u001b[0m\u001b[0;34m[\u001b[0m\u001b[0midx\u001b[0m\u001b[0;34m:\u001b[0m\u001b[0midx\u001b[0m \u001b[0;34m+\u001b[0m \u001b[0;36m4\u001b[0m\u001b[0;34m]\u001b[0m \u001b[0;34m==\u001b[0m \u001b[0;34m'null'\u001b[0m\u001b[0;34m:\u001b[0m\u001b[0;34m\u001b[0m\u001b[0m\n\u001b[1;32m     42\u001b[0m             \u001b[0;32mreturn\u001b[0m \u001b[0;32mNone\u001b[0m\u001b[0;34m,\u001b[0m \u001b[0midx\u001b[0m \u001b[0;34m+\u001b[0m \u001b[0;36m4\u001b[0m\u001b[0;34m\u001b[0m\u001b[0m\n",
            "\u001b[0;32m~/anaconda3_501/lib/python3.6/json/decoder.py\u001b[0m in \u001b[0;36mJSONArray\u001b[0;34m(s_and_end, scan_once, _w, _ws)\u001b[0m\n\u001b[1;32m    227\u001b[0m     \u001b[0;32mwhile\u001b[0m \u001b[0;32mTrue\u001b[0m\u001b[0;34m:\u001b[0m\u001b[0;34m\u001b[0m\u001b[0m\n\u001b[1;32m    228\u001b[0m         \u001b[0;32mtry\u001b[0m\u001b[0;34m:\u001b[0m\u001b[0;34m\u001b[0m\u001b[0m\n\u001b[0;32m--> 229\u001b[0;31m             \u001b[0mvalue\u001b[0m\u001b[0;34m,\u001b[0m \u001b[0mend\u001b[0m \u001b[0;34m=\u001b[0m \u001b[0mscan_once\u001b[0m\u001b[0;34m(\u001b[0m\u001b[0ms\u001b[0m\u001b[0;34m,\u001b[0m \u001b[0mend\u001b[0m\u001b[0;34m)\u001b[0m\u001b[0;34m\u001b[0m\u001b[0m\n\u001b[0m\u001b[1;32m    230\u001b[0m         \u001b[0;32mexcept\u001b[0m \u001b[0mStopIteration\u001b[0m \u001b[0;32mas\u001b[0m \u001b[0merr\u001b[0m\u001b[0;34m:\u001b[0m\u001b[0;34m\u001b[0m\u001b[0m\n\u001b[1;32m    231\u001b[0m             \u001b[0;32mraise\u001b[0m \u001b[0mJSONDecodeError\u001b[0m\u001b[0;34m(\u001b[0m\u001b[0;34m\"Expecting value\"\u001b[0m\u001b[0;34m,\u001b[0m \u001b[0ms\u001b[0m\u001b[0;34m,\u001b[0m \u001b[0merr\u001b[0m\u001b[0;34m.\u001b[0m\u001b[0mvalue\u001b[0m\u001b[0;34m)\u001b[0m \u001b[0;32mfrom\u001b[0m \u001b[0;32mNone\u001b[0m\u001b[0;34m\u001b[0m\u001b[0m\n",
            "\u001b[0;32m~/anaconda3_501/lib/python3.6/json/scanner.py\u001b[0m in \u001b[0;36m_scan_once\u001b[0;34m(string, idx)\u001b[0m\n\u001b[1;32m     36\u001b[0m         \u001b[0;32melif\u001b[0m \u001b[0mnextchar\u001b[0m \u001b[0;34m==\u001b[0m \u001b[0;34m'{'\u001b[0m\u001b[0;34m:\u001b[0m\u001b[0;34m\u001b[0m\u001b[0m\n\u001b[1;32m     37\u001b[0m             return parse_object((string, idx + 1), strict,\n\u001b[0;32m---> 38\u001b[0;31m                 _scan_once, object_hook, object_pairs_hook, memo)\n\u001b[0m\u001b[1;32m     39\u001b[0m         \u001b[0;32melif\u001b[0m \u001b[0mnextchar\u001b[0m \u001b[0;34m==\u001b[0m \u001b[0;34m'['\u001b[0m\u001b[0;34m:\u001b[0m\u001b[0;34m\u001b[0m\u001b[0m\n\u001b[1;32m     40\u001b[0m             \u001b[0;32mreturn\u001b[0m \u001b[0mparse_array\u001b[0m\u001b[0;34m(\u001b[0m\u001b[0;34m(\u001b[0m\u001b[0mstring\u001b[0m\u001b[0;34m,\u001b[0m \u001b[0midx\u001b[0m \u001b[0;34m+\u001b[0m \u001b[0;36m1\u001b[0m\u001b[0;34m)\u001b[0m\u001b[0;34m,\u001b[0m \u001b[0m_scan_once\u001b[0m\u001b[0;34m)\u001b[0m\u001b[0;34m\u001b[0m\u001b[0m\n",
            "\u001b[0;32m~/anaconda3_501/lib/python3.6/json/decoder.py\u001b[0m in \u001b[0;36mJSONObject\u001b[0;34m(s_and_end, strict, scan_once, object_hook, object_pairs_hook, memo, _w, _ws)\u001b[0m\n\u001b[1;32m    207\u001b[0m                 \"Expecting property name enclosed in double quotes\", s, end - 1)\n\u001b[1;32m    208\u001b[0m     \u001b[0;32mif\u001b[0m \u001b[0mobject_pairs_hook\u001b[0m \u001b[0;32mis\u001b[0m \u001b[0;32mnot\u001b[0m \u001b[0;32mNone\u001b[0m\u001b[0;34m:\u001b[0m\u001b[0;34m\u001b[0m\u001b[0m\n\u001b[0;32m--> 209\u001b[0;31m         \u001b[0mresult\u001b[0m \u001b[0;34m=\u001b[0m \u001b[0mobject_pairs_hook\u001b[0m\u001b[0;34m(\u001b[0m\u001b[0mpairs\u001b[0m\u001b[0;34m)\u001b[0m\u001b[0;34m\u001b[0m\u001b[0m\n\u001b[0m\u001b[1;32m    210\u001b[0m         \u001b[0;32mreturn\u001b[0m \u001b[0mresult\u001b[0m\u001b[0;34m,\u001b[0m \u001b[0mend\u001b[0m\u001b[0;34m\u001b[0m\u001b[0m\n\u001b[1;32m    211\u001b[0m     \u001b[0mpairs\u001b[0m \u001b[0;34m=\u001b[0m \u001b[0mdict\u001b[0m\u001b[0;34m(\u001b[0m\u001b[0mpairs\u001b[0m\u001b[0;34m)\u001b[0m\u001b[0;34m\u001b[0m\u001b[0m\n",
            "\u001b[0;32m~/anaconda3_501/lib/python3.6/site-packages/importnb/decoder.py\u001b[0m in \u001b[0;36mobject_pairs_hook\u001b[0;34m(object)\u001b[0m\n\u001b[1;32m     41\u001b[0m             \u001b[0;32mif\u001b[0m \u001b[0mobject\u001b[0m\u001b[0;34m[\u001b[0m\u001b[0mkey\u001b[0m\u001b[0;34m]\u001b[0m\u001b[0;34m:\u001b[0m\u001b[0;34m\u001b[0m\u001b[0m\n\u001b[1;32m     42\u001b[0m                 return (\n\u001b[0;32m---> 43\u001b[0;31m                     \u001b[0mslice\u001b[0m\u001b[0;34m(\u001b[0m\u001b[0mobject\u001b[0m\u001b[0;34m[\u001b[0m\u001b[0mkey\u001b[0m\u001b[0;34m]\u001b[0m\u001b[0;34m[\u001b[0m\u001b[0;36m0\u001b[0m\u001b[0;34m]\u001b[0m\u001b[0;34m[\u001b[0m\u001b[0;36m0\u001b[0m\u001b[0;34m]\u001b[0m\u001b[0;34m.\u001b[0m\u001b[0mstart\u001b[0m\u001b[0;34m,\u001b[0m \u001b[0mobject\u001b[0m\u001b[0;34m[\u001b[0m\u001b[0mkey\u001b[0m\u001b[0;34m]\u001b[0m\u001b[0;34m[\u001b[0m\u001b[0;34m-\u001b[0m\u001b[0;36m1\u001b[0m\u001b[0;34m]\u001b[0m\u001b[0;34m[\u001b[0m\u001b[0;36m0\u001b[0m\u001b[0;34m]\u001b[0m\u001b[0;34m.\u001b[0m\u001b[0mstop\u001b[0m\u001b[0;34m)\u001b[0m\u001b[0;34m,\u001b[0m\u001b[0;34m\u001b[0m\u001b[0m\n\u001b[0m\u001b[1;32m     44\u001b[0m                     \u001b[0mobject\u001b[0m\u001b[0;34m,\u001b[0m\u001b[0;34m\u001b[0m\u001b[0m\n\u001b[1;32m     45\u001b[0m                     \u001b[0;34m\"\"\u001b[0m\u001b[0;34m.\u001b[0m\u001b[0mjoin\u001b[0m\u001b[0;34m(\u001b[0m\u001b[0m_\u001b[0m\u001b[0;34m[\u001b[0m\u001b[0;36m1\u001b[0m\u001b[0;34m]\u001b[0m \u001b[0;32mfor\u001b[0m \u001b[0m_\u001b[0m \u001b[0;32min\u001b[0m \u001b[0mobject\u001b[0m\u001b[0;34m[\u001b[0m\u001b[0mkey\u001b[0m\u001b[0;34m]\u001b[0m\u001b[0;34m)\u001b[0m\u001b[0;34m,\u001b[0m\u001b[0;34m\u001b[0m\u001b[0m\n",
            "\u001b[0;31mTypeError\u001b[0m: 'slice' object is not subscriptable"
          ]
        }
      ]
    },
    {
      "metadata": {},
      "cell_type": "markdown",
      "source": "So, what the Python interpreter is doing is looking in your directory where your script is and trying to find a python file called `function.py` (in this case a different extension but in practice it would be `.py`). It found it, so it executed what was within that file. Say, if it did not find it locally in the same folder as this script, it would then look where all of your standard libraries are (there is no standard library called `function`) and then error out.\n\n# 3. File I/O\n\n### 3.1 Opening basic files\n\nI/O means Input/Output. So, we are going to learn how to read and write files with Python. It's important to know that when Python interacts with a file like creating, reading, or writing a file, it puts a handle on that file. Think of this like a library hold. You can place a hold on a library book. When you do this, no one else can checkout that book except you. Well, in the file system, this is the same. Python's saying, \"I have a handle on this file, no one else make any changes to it or delete it\". This prevents two applications for making changes at the same time to the same file or deleting it.\n\nThere are quite a few ways that Python can open a file, we'll look at a few.\n\n| Mode* | English\n| --- | :--- |\n| r | Read a file, nothing else |\n| r+ | Read a file, write to the **beginning** of the file|\n| w | Write to a file (create or completely overwrite the file) |\n| w+ | Read and Write to a file (if there's content, you can read it, and then completely overwrite it) |\n| a | Append to a file (write to the bottom of a file) |\n| a+ | Append & Read to a file (Read the contents, and then add more to it) |\n\n- There are more modes, but these are all the ones you should understand for now\n\nHere are a few examples:\n\n- Write to a file (create one)"
    },
    {
      "metadata": {
        "trusted": true
      },
      "cell_type": "code",
      "source": "texthandle = open(\"MyFileName.txt\", \"w\") # Use open (even if the file doesn't currently exist)\n# We now have a handle on the file MyFileName.txt which can be found in your current directory where your script lives\n# Let's write something to it\ntexthandle.write(\"This is at the top of the file\\nThis is at the bottom of the file\") # \\n means new line\n# Now, let's close the file (so we don't have a handle on it anymore)\ntexthandle.close()",
      "execution_count": 9,
      "outputs": []
    },
    {
      "metadata": {},
      "cell_type": "markdown",
      "source": "- Now let's read a file"
    },
    {
      "metadata": {
        "trusted": true,
        "scrolled": false
      },
      "cell_type": "code",
      "source": "theFile = open(\"MyFileName.txt\", 'r')\n# Got it open, now print out the contents\nprint(\"The name of the file is: \" + theFile.name)\nprint(theFile.read(5)) # Whatever is in the read parameter, that's how many bytes to read at a time\n# Note: You'll see that as you repeat the above command, it will keep going from the point it left off\n#       To reset this, tell Python to seek at byte 0 and then continue again\ntheFile.seek(0)\n# Okay, reading every certain amounts of bytes can be annoying. If we know we're dealing with a SMALL text document, then we can tell Python to load the whole thing:\nprint(theFile.read())\ntheFile.close()",
      "execution_count": 10,
      "outputs": [
        {
          "output_type": "stream",
          "text": "The name of the file is: MyFileName.txt\nThis \nThis is at the top of the file\nThis is at the bottom of the file\n",
          "name": "stdout"
        }
      ]
    },
    {
      "metadata": {},
      "cell_type": "markdown",
      "source": "Okay, let's remove the file without even opening it. We can't delete a file with the `open()`, but there is standard library that can. It's called `os` and this is a module that let's you manipulate the operating system. Let's rename a file and then delete one without opening it using this module."
    },
    {
      "metadata": {
        "scrolled": true,
        "trusted": true
      },
      "cell_type": "code",
      "source": "import os\n\nos.rename(\"MyFileName.txt\", \"MyNewFileName.txt\") # 1st Argument, the original file name, 2nd arg, the new file name\ninput(\"do you see the change? (click enter)\")\nos.remove(\"MyNewFileName.txt\") # It's gone now",
      "execution_count": 8,
      "outputs": [
        {
          "output_type": "stream",
          "name": "stdout",
          "text": "do you see the change? (click enter)\n"
        }
      ]
    },
    {
      "metadata": {},
      "cell_type": "markdown",
      "source": "The `os` module has a lot more functionality and something you use if you would like to make changes to the computer itself.\n\nAlso, just a side note, that document isn't coming back anytime soon, it doesn't go to your desktop's recycle bin.\n\n### 3.2 Opening complex files\n\nI'm sure you've heard of and used Microsoft Excel. While we can't open Microsoft Excel's files directly because it has special encoding, we can convert those documents into a text based files. In this file, each cell is separated by a comma and a carriage return (new line just like `\\n`).\n\nWe can then use one of the standard libraries to read one of these files and it can even process the comma's and carriage returns and put it into a list for us.\n\nTo make this easier, we have provided a CSV file which is just a text file named \"example.csv\" with the following contents,\n\n```\n1,5\n2,8\n3,2\n4,4\n5,4\n6,6\n7,2\n8,3\n9,4\n10,5\n```"
    },
    {
      "metadata": {
        "scrolled": true,
        "trusted": true
      },
      "cell_type": "code",
      "source": "import csv\n\ncsv_file = open('example.csv', 'r') # Open the file in Python\n\ncsv_data = csv.reader(csv_file) # Read it as a csv file\n\ncsv_data_list = list(csv_data) # Turn it into a list\n\nprint('The whole thing: '+str(csv_data_list)) # With string concatenation and other variables",
      "execution_count": 22,
      "outputs": [
        {
          "output_type": "stream",
          "text": "The whole thing: [['1', '5'], ['2', '8'], ['3', '2'], ['4', '4'], ['5', '4'], ['6', '6'], ['7', '2'], ['8', '3'], ['9', '4'], ['10', '5']]\n",
          "name": "stdout"
        }
      ]
    },
    {
      "metadata": {
        "trusted": true
      },
      "cell_type": "code",
      "source": "print('Row 1: '+str(csv_data_list[0])) # We need to the other variables into strings",
      "execution_count": 11,
      "outputs": [
        {
          "output_type": "stream",
          "text": "Row 1: ['1', '5']\n",
          "name": "stdout"
        }
      ]
    },
    {
      "metadata": {
        "scrolled": true,
        "trusted": true
      },
      "cell_type": "code",
      "source": "print('Row 1 Column 1: '+str(csv_data_list[0][0])) # Use the str() function to do that",
      "execution_count": 12,
      "outputs": [
        {
          "output_type": "stream",
          "text": "Row 1 Column 1: 1\n",
          "name": "stdout"
        }
      ]
    },
    {
      "metadata": {},
      "cell_type": "markdown",
      "source": "# 4. Matplotlib\n\nThe last thing we're going to do today is learning how to use a library called Matplotlib. While this is not part of the standard libraries that always come with Python, we've gone ahead and installed it for you together with the Python interpreter. Matplotlib takes data and plots them. It is very easy to use but allows you to create very advanced plots.\n\nLet's take our csv data file from above and use that to create a plot."
    },
    {
      "metadata": {
        "scrolled": true,
        "trusted": true
      },
      "cell_type": "code",
      "source": "import matplotlib.pyplot as plt\nimport csv\n\ncsv_file = open('example.csv', 'r') # Open the file in Python\n\ncsv_data = csv.reader(csv_file) # Read it as a csv file\n\ncsv_data_list = list(csv_data) # Turn it into a list\n\n# Go through every point in the data\nfor points in csv_data_list:\n    plt.scatter(points[0], points[1]) # Plot the point\n    \nplt.show() # Now show the plot",
      "execution_count": 11,
      "outputs": [
        {
          "output_type": "display_data",
          "data": {
            "text/plain": "<Figure size 640x480 with 1 Axes>"
          },
          "metadata": {}
        }
      ]
    },
    {
      "metadata": {},
      "cell_type": "markdown",
      "source": "Let's say we wanted to connect those points in the scatter plot, add some other data as well, and label it,"
    },
    {
      "metadata": {
        "trusted": true
      },
      "cell_type": "code",
      "source": "import matplotlib.pyplot as plt\nimport csv\n\ncsv_file = open('example.csv', 'r') # Open the file in Python\n\ncsv_data = csv.reader(csv_file) # Read it as a csv file\n\ncsv_data_list = list(csv_data) # Turn it into a list\n\n# Now transpose the data\n# Right now, it's [[1,1], [2,2], [3,3]]\n# We need it to be [[1,2,3], [1,2,3]]\n# This will do that for us\ntransposed_data = list(map(list, zip(*csv_data_list)))\n\n# Ok, now split those two inner lists to x and y\nx, y = transposed_data\n\n\"\"\"Same thing as\nx = transposed_data[0]\ny = transposed_data[1]\n\"\"\"\n\nplt.plot(x,y, label=\"Example.csv File\") # Create the plot from the points\n\nplt.plot([2,3,9],[2,5,3], label=\"Other data\") # We can have multiple data sets in one plot\n\nplt.xlabel('x axis')\nplt.ylabel('y axis')\nplt.title('My Plot Title')\nplt.legend() # Show a legend with the labels\n\nplt.show() # Now show the plot",
      "execution_count": 12,
      "outputs": [
        {
          "output_type": "display_data",
          "data": {
            "image/png": "[encoded data removed]",
            "text/plain": "<Figure size 432x288 with 1 Axes>"
          },
          "metadata": {
            "needs_background": "light"
          }
        }
      ]
    },
    {
      "metadata": {},
      "cell_type": "markdown",
      "source": "Okay, for this last example, let's create a histogram. We're going to roll two dice and add their numbers. Then we're going to plot our results on a histogram. Let's roll 20,000 times."
    },
    {
      "metadata": {
        "scrolled": true,
        "trusted": true
      },
      "cell_type": "code",
      "source": "import matplotlib.pyplot as plt\nimport random\n\nnumber_of_rolls = 10000\n\nresults = []\nfor i in range(number_of_rolls):\n    # We're rolling two times and adding them together\n    newValue = random.randint(1,6)+random.randint(1,6)\n    # We have our two dice added together, add it to the results list\n    results.append(newValue)\n\n# First parameter is the data, second is the number of bins\nplt.hist(results, 10)\n\n# Present our plot\nplt.show()",
      "execution_count": 13,
      "outputs": [
        {
          "output_type": "display_data",
          "data": {
            "image/png": "[encoded data removed]",
            "text/plain": "<Figure size 432x288 with 1 Axes>"
          },
          "metadata": {
            "needs_background": "light"
          }
        }
      ]
    },
    {
      "metadata": {},
      "cell_type": "markdown",
      "source": "# Basic Python Completion\n\nOkay, if you've made it this far, you actually know quite a bit of Python. If you were able to complete or understand how to complete last week's challenges and can complete this week's challenges, you are ready to start working on your project. First complete this week's challenges and then ask about the next step."
    }
  ],
  "metadata": {
    "kernelspec": {
      "name": "python36",
      "display_name": "Python 3.6",
      "language": "python"
    },
    "language_info": {
      "mimetype": "text/x-python",
      "nbconvert_exporter": "python",
      "name": "python",
      "pygments_lexer": "ipython3",
      "version": "3.6.6",
      "file_extension": ".py",
      "codemirror_mode": {
        "version": 3,
        "name": "ipython"
      }
    }
  },
  "nbformat": 4,
  "nbformat_minor": 2
}